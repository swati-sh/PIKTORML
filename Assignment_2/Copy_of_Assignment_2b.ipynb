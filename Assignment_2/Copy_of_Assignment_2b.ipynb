{
  "nbformat": 4,
  "nbformat_minor": 0,
  "metadata": {
    "colab": {
      "name": "Copy of Assignment_2b.ipynb",
      "provenance": [],
      "collapsed_sections": [],
      "include_colab_link": true
    },
    "kernelspec": {
      "name": "python3",
      "display_name": "Python 3"
    },
    "accelerator": "GPU"
  },
  "cells": [
    {
      "cell_type": "markdown",
      "metadata": {
        "id": "view-in-github",
        "colab_type": "text"
      },
      "source": [
        "<a href=\"https://colab.research.google.com/github/swati-sh/PIKTORML/blob/master/Assignment_2/Copy_of_Assignment_2b.ipynb\" target=\"_parent\"><img src=\"https://colab.research.google.com/assets/colab-badge.svg\" alt=\"Open In Colab\"/></a>"
      ]
    },
    {
      "cell_type": "markdown",
      "metadata": {
        "id": "4IC3x07jc-LI",
        "colab_type": "text"
      },
      "source": [
        "# This assignment will help you to get familiarized with numpy and pandas library\n",
        "### Numpy is a library which will help you to work with matrix and arrays in a very efficient way \n",
        "### Pandas will help you use csv/excel files data"
      ]
    },
    {
      "cell_type": "code",
      "metadata": {
        "id": "erwxFyROeSH9",
        "colab_type": "code",
        "colab": {}
      },
      "source": [
        "# Here goes the necessary imports to run this notebook\n",
        "import numpy as np\n",
        "import pandas as pd\n",
        "import matplotlib.pyplot as plt"
      ],
      "execution_count": 0,
      "outputs": []
    },
    {
      "cell_type": "markdown",
      "metadata": {
        "id": "_wBGW6Qh9JGy",
        "colab_type": "text"
      },
      "source": [
        "## Numpy :\n",
        "### Solve the below problems using numpy inbuilt function, avoid using python native operations\n",
        "### Whenever random numbers are used, please use a particular random seed, This will help to generate same set of random numbers always(read about random seed)"
      ]
    },
    {
      "cell_type": "markdown",
      "metadata": {
        "id": "3rOtEoS7h5v4",
        "colab_type": "text"
      },
      "source": [
        "### Q1.Think about 2 matrices which can represent some real life data. Multiply the same 2 matrix to find a new matrix. The new matrix should represent some new information about your data(Don't use the same example used in class (finding total price from the quantities of the items))\n"
      ]
    },
    {
      "cell_type": "code",
      "metadata": {
        "id": "JXgnhVR7ewCC",
        "colab_type": "code",
        "outputId": "8767ed03-2ff4-45f2-d165-f9eff7924ddc",
        "colab": {
          "base_uri": "https://localhost:8080/",
          "height": 84
        }
      },
      "source": [
        "# matrix X shows the number of different types of baskets made by a college basketball palyer \n",
        "# during the first four games of the season.\n",
        "# Another matrix Y respresents the points scored for each type of basket.  \n",
        "# In matrix X rows represents the Game 1,Game 2,Game 3,Game 4.\n",
        "# whereas columns represents the 2-points,3-points and free throw\n",
        "# In matrix Y rows represents 2-points,3-points and free throw whereas columns reprents points\n",
        "####################### code below #######################\n",
        "import numpy as np;\n",
        "# input two matrices \n",
        "mat1 = ([10, 4, 6],[8 ,3, 10],[9,3,8],[12,1,2]) \n",
        "mat2 = ([2],[3],[1]) \n",
        "  \n",
        "# This will return dot product \n",
        "res = np.dot(mat1,mat2) \n",
        "  \n",
        "# print resulted matrix \n",
        "# The result will be 4*1 dimension matrix where rows represent Game 1 ,Game 2, Game 3, Game 4 and column represents total points\n",
        "print(res,res.shape) \n",
        "\n",
        "####################### Code ends here #######################"
      ],
      "execution_count": 0,
      "outputs": [
        {
          "output_type": "stream",
          "text": [
            "[[38]\n",
            " [35]\n",
            " [35]\n",
            " [29]] (4, 1)\n"
          ],
          "name": "stdout"
        }
      ]
    },
    {
      "cell_type": "markdown",
      "metadata": {
        "id": "K0sIWN-F5w3B",
        "colab_type": "text"
      },
      "source": [
        "### Q2. Create an numpy random array of size (5,5)\n",
        "\n",
        "### a. print max and min value of the array and the index of the max and min values\n",
        "\n",
        "### b. repeat the above for each rows or columns(don't need to show both)"
      ]
    },
    {
      "cell_type": "code",
      "metadata": {
        "id": "V_LBCQ1i6hbM",
        "colab_type": "code",
        "outputId": "a618e010-cffe-4b89-b53c-db607173e77f",
        "colab": {
          "base_uri": "https://localhost:8080/",
          "height": 134
        }
      },
      "source": [
        "####################### code below #######################\n",
        "import numpy as np;\n",
        "arr = np.array([[11, 12, 13,87,34],[14, 15, 16,34,66],[17, 15, 41,2,1],[12, 14, 15,55,12],[12, 14, 19,23,32]])\n",
        "maxValue = np.amax(arr)\n",
        "minValue = np.amin(arr)\n",
        "print('Array max values is %d and min value is %d' % (maxValue, minValue))\n",
        "result = np.where(arr == np.amax(arr))\n",
        "print('Index of maximum value in array : ')\n",
        "# zip the 2 arrays to get the exact coordinates\n",
        "listOfCordinates = list(zip(result[0], result[1]))\n",
        "# travese over the list of cordinates\n",
        "for cord in listOfCordinates:\n",
        "    print(cord)\n",
        "\n",
        "res = np.where(arr == np.amin(arr))\n",
        "print('Index of minimum value in array : ')\n",
        "# zip the 2 arrays to get the exact coordinates\n",
        "listOfCordinates = list(zip(res[0], res[1]))\n",
        "# travese over the list of cordinates\n",
        "for cord in listOfCordinates:\n",
        "    print(cord)\n",
        "\n",
        "#Max and min Value for each columns\n",
        "maxInColumns = np.amax(arr, axis=0)\n",
        "minInColumns = np.amin(arr, axis=1)\n",
        " \n",
        "print('Max value of every column: ', maxInColumns)\n",
        "print('Min value of every column: ', minInColumns)\n",
        "\n",
        "####################### Code ends here #######################"
      ],
      "execution_count": 0,
      "outputs": [
        {
          "output_type": "stream",
          "text": [
            "Array max values is 87 and min value is 1\n",
            "Index of maximum value in array : \n",
            "(0, 3)\n",
            "Index of minimum value in array : \n",
            "(2, 4)\n",
            "Max value of every column:  [17 15 41 87 66]\n",
            "Min value of every column:  [11 14  1 12 12]\n"
          ],
          "name": "stdout"
        }
      ]
    },
    {
      "cell_type": "markdown",
      "metadata": {
        "colab_type": "text",
        "id": "iq16fKlr8pEh"
      },
      "source": [
        "### Q3.1 Create 4 arrays of size (50,50). Stack the arrays in such a fashion that you get a final array shown below. Plt the final array using the below funciton.(you need to fill the array with differnt values in between 0-255 to plot a gray scale output)"
      ]
    },
    {
      "cell_type": "code",
      "metadata": {
        "id": "usX-dDO9h8t4",
        "colab_type": "code",
        "colab": {}
      },
      "source": [
        "plt.imshow(numpy_aruay, cmap = 'gray')\n",
        "plt.show()"
      ],
      "execution_count": 0,
      "outputs": []
    },
    {
      "cell_type": "code",
      "metadata": {
        "id": "7Fxg8jwdyont",
        "colab_type": "code",
        "outputId": "330bb27f-da9a-4c48-a3c4-59201bcfd08a",
        "colab": {
          "base_uri": "https://localhost:8080/",
          "height": 268
        }
      },
      "source": [
        "####################### code below #######################\n",
        "import numpy as np\n",
        "import matplotlib.pyplot as plt\n",
        "# Created a numpy array of size 50*50 full with a different values\n",
        "x1 = np.full((50, 50),100)\n",
        "x2 = np.full((50, 50),130)\n",
        "x3 = np.full((50, 50),160)\n",
        "x4 = np.full((50, 50),225)\n",
        "# Stacking first two array in a horzontal manner\n",
        "x5 = np.hstack((x1,x2))\n",
        "# stacking the last two array in a horizontal manner\n",
        "x6 = np.hstack((x3,x4))\n",
        "# Now stacking those two horizontally stack array into vertical alignment\n",
        "x7 = np.vstack((x5,x6))\n",
        "#plotting the graph\n",
        "plt.imshow(x7, cmap = 'gray')\n",
        "plt.show()\n",
        "####################### Code ends here #######################"
      ],
      "execution_count": 0,
      "outputs": [
        {
          "output_type": "display_data",
          "data": {
            "image/png": "[encoded data removed]",
            "text/plain": [
              "<Figure size 432x288 with 1 Axes>"
            ]
          },
          "metadata": {
            "tags": []
          }
        }
      ]
    },
    {
      "cell_type": "markdown",
      "metadata": {
        "id": "dd7SHF8d82Qr",
        "colab_type": "text"
      },
      "source": [
        "### Q3.2 Take the final matrix and change values in such a way that you get a image like below (balck and white half(grayscale range between 0,255)) "
      ]
    },
    {
      "cell_type": "code",
      "metadata": {
        "id": "LzNoheXruBRC",
        "colab_type": "code",
        "outputId": "736181bd-f10f-4d26-b949-b433f0600a07",
        "colab": {
          "base_uri": "https://localhost:8080/",
          "height": 268
        }
      },
      "source": [
        "plt.imshow(numpy_array, cmap = 'gray')\n",
        "plt.show()"
      ],
      "execution_count": 0,
      "outputs": [
        {
          "output_type": "display_data",
          "data": {
            "image/png": "[encoded data removed]",
            "text/plain": [
              "<Figure size 432x288 with 1 Axes>"
            ]
          },
          "metadata": {
            "tags": []
          }
        }
      ]
    },
    {
      "cell_type": "code",
      "metadata": {
        "id": "lKDv_myDzx_m",
        "colab_type": "code",
        "outputId": "95db8587-5f20-4c3f-bb5f-7c51b3251867",
        "colab": {
          "base_uri": "https://localhost:8080/",
          "height": 268
        }
      },
      "source": [
        "####################### code below #######################\n",
        "import numpy as np\n",
        "import matplotlib.pyplot as plt\n",
        "x1 = np.full((50, 50),100)\n",
        "x2 = np.full((50, 50),225)\n",
        "x3 = np.full((50, 50),100)\n",
        "x4 = np.full((50, 50),225)\n",
        "x5 = np.hstack((x1,x2))\n",
        "x6 = np.hstack((x3,x4))\n",
        "x7 = np.vstack((x5,x6))\n",
        "plt.imshow(x7, cmap = 'gray')\n",
        "plt.show()\n",
        "####################### Code ends here #######################"
      ],
      "execution_count": 0,
      "outputs": [
        {
          "output_type": "display_data",
          "data": {
            "image/png": "[encoded data removed]",
            "text/plain": [
              "<Figure size 432x288 with 1 Axes>"
            ]
          },
          "metadata": {
            "tags": []
          }
        }
      ]
    },
    {
      "cell_type": "markdown",
      "metadata": {
        "id": "-u3r9NuO99O6",
        "colab_type": "text"
      },
      "source": [
        "## Pandas:"
      ]
    },
    {
      "cell_type": "code",
      "metadata": {
        "id": "cOhWAj7I9_ki",
        "colab_type": "code",
        "outputId": "206031ee-fe46-4875-8d3f-1b9bff12b039",
        "colab": {
          "base_uri": "https://localhost:8080/",
          "height": 195
        }
      },
      "source": [
        "from __future__ import absolute_import, division, print_function, unicode_literals\n",
        "import tensorflow as tf\n",
        "import pandas as pd     \n",
        "csv_file = tf.keras.utils.get_file('heart.csv', 'https://storage.googleapis.com/applied-dl/heart.csv')\n",
        "df = pd.read_csv(csv_file)  \n",
        "df.head()"
      ],
      "execution_count": 0,
      "outputs": [
        {
          "output_type": "execute_result",
          "data": {
            "text/html": [
              "<div>\n",
              "<style scoped>\n",
              "    .dataframe tbody tr th:only-of-type {\n",
              "        vertical-align: middle;\n",
              "    }\n",
              "\n",
              "    .dataframe tbody tr th {\n",
              "        vertical-align: top;\n",
              "    }\n",
              "\n",
              "    .dataframe thead th {\n",
              "        text-align: right;\n",
              "    }\n",
              "</style>\n",
              "<table border=\"1\" class=\"dataframe\">\n",
              "  <thead>\n",
              "    <tr style=\"text-align: right;\">\n",
              "      <th></th>\n",
              "      <th>age</th>\n",
              "      <th>sex</th>\n",
              "      <th>cp</th>\n",
              "      <th>trestbps</th>\n",
              "      <th>chol</th>\n",
              "      <th>fbs</th>\n",
              "      <th>restecg</th>\n",
              "      <th>thalach</th>\n",
              "      <th>exang</th>\n",
              "      <th>oldpeak</th>\n",
              "      <th>slope</th>\n",
              "      <th>ca</th>\n",
              "      <th>thal</th>\n",
              "      <th>target</th>\n",
              "    </tr>\n",
              "  </thead>\n",
              "  <tbody>\n",
              "    <tr>\n",
              "      <th>0</th>\n",
              "      <td>63</td>\n",
              "      <td>1</td>\n",
              "      <td>1</td>\n",
              "      <td>145</td>\n",
              "      <td>233</td>\n",
              "      <td>1</td>\n",
              "      <td>2</td>\n",
              "      <td>150</td>\n",
              "      <td>0</td>\n",
              "      <td>2.3</td>\n",
              "      <td>3</td>\n",
              "      <td>0</td>\n",
              "      <td>fixed</td>\n",
              "      <td>0</td>\n",
              "    </tr>\n",
              "    <tr>\n",
              "      <th>1</th>\n",
              "      <td>67</td>\n",
              "      <td>1</td>\n",
              "      <td>4</td>\n",
              "      <td>160</td>\n",
              "      <td>286</td>\n",
              "      <td>0</td>\n",
              "      <td>2</td>\n",
              "      <td>108</td>\n",
              "      <td>1</td>\n",
              "      <td>1.5</td>\n",
              "      <td>2</td>\n",
              "      <td>3</td>\n",
              "      <td>normal</td>\n",
              "      <td>1</td>\n",
              "    </tr>\n",
              "    <tr>\n",
              "      <th>2</th>\n",
              "      <td>67</td>\n",
              "      <td>1</td>\n",
              "      <td>4</td>\n",
              "      <td>120</td>\n",
              "      <td>229</td>\n",
              "      <td>0</td>\n",
              "      <td>2</td>\n",
              "      <td>129</td>\n",
              "      <td>1</td>\n",
              "      <td>2.6</td>\n",
              "      <td>2</td>\n",
              "      <td>2</td>\n",
              "      <td>reversible</td>\n",
              "      <td>0</td>\n",
              "    </tr>\n",
              "    <tr>\n",
              "      <th>3</th>\n",
              "      <td>37</td>\n",
              "      <td>1</td>\n",
              "      <td>3</td>\n",
              "      <td>130</td>\n",
              "      <td>250</td>\n",
              "      <td>0</td>\n",
              "      <td>0</td>\n",
              "      <td>187</td>\n",
              "      <td>0</td>\n",
              "      <td>3.5</td>\n",
              "      <td>3</td>\n",
              "      <td>0</td>\n",
              "      <td>normal</td>\n",
              "      <td>0</td>\n",
              "    </tr>\n",
              "    <tr>\n",
              "      <th>4</th>\n",
              "      <td>41</td>\n",
              "      <td>0</td>\n",
              "      <td>2</td>\n",
              "      <td>130</td>\n",
              "      <td>204</td>\n",
              "      <td>0</td>\n",
              "      <td>2</td>\n",
              "      <td>172</td>\n",
              "      <td>0</td>\n",
              "      <td>1.4</td>\n",
              "      <td>1</td>\n",
              "      <td>0</td>\n",
              "      <td>normal</td>\n",
              "      <td>0</td>\n",
              "    </tr>\n",
              "  </tbody>\n",
              "</table>\n",
              "</div>"
            ],
            "text/plain": [
              "   age  sex  cp  trestbps  chol  ...  oldpeak  slope  ca        thal  target\n",
              "0   63    1   1       145   233  ...      2.3      3   0       fixed       0\n",
              "1   67    1   4       160   286  ...      1.5      2   3      normal       1\n",
              "2   67    1   4       120   229  ...      2.6      2   2  reversible       0\n",
              "3   37    1   3       130   250  ...      3.5      3   0      normal       0\n",
              "4   41    0   2       130   204  ...      1.4      1   0      normal       0\n",
              "\n",
              "[5 rows x 14 columns]"
            ]
          },
          "metadata": {
            "tags": []
          },
          "execution_count": 31
        }
      ]
    },
    {
      "cell_type": "markdown",
      "metadata": {
        "id": "iBKJtANPC9w4",
        "colab_type": "text"
      },
      "source": [
        "### Q4.Consider the above data frame(df)\n",
        "\n",
        "1.  Add new column name **gender** based on **sex** column(1 == female,0 == male)\n",
        "2.   Create a 2 new df with age between 30-50 genderwise(one df for male one for female) \n",
        "\n"
      ]
    },
    {
      "cell_type": "markdown",
      "metadata": {
        "id": "amfZYZmbbgJf",
        "colab_type": "text"
      },
      "source": [
        "1) Adding new column name gender based on sex column(1 == female,0 == male)\n",
        "\n"
      ]
    },
    {
      "cell_type": "code",
      "metadata": {
        "id": "ogeJRhskZGc2",
        "colab_type": "code",
        "outputId": "c5a91ad6-09d3-4fa8-f3b1-a29d183845ba",
        "colab": {
          "base_uri": "https://localhost:8080/",
          "height": 195
        }
      },
      "source": [
        "#Adding new column name gender based on sex column(1 == female,0 == male)\n",
        "from __future__ import absolute_import, division, print_function, unicode_literals\n",
        "import tensorflow as tf\n",
        "import pandas as pd     \n",
        "csv_file = tf.keras.utils.get_file('heart.csv', 'https://storage.googleapis.com/applied-dl/heart.csv')\n",
        "df = pd.read_csv(csv_file)  \n",
        "def label_race (row):\n",
        "   if row['sex'] == 1 :\n",
        "      return 'F'\n",
        "   else:\n",
        "      return 'M'\n",
        "df['gender']=df.apply (lambda row: label_race(row), axis=1)\n",
        "\n",
        "df.head()"
      ],
      "execution_count": 0,
      "outputs": [
        {
          "output_type": "execute_result",
          "data": {
            "text/html": [
              "<div>\n",
              "<style scoped>\n",
              "    .dataframe tbody tr th:only-of-type {\n",
              "        vertical-align: middle;\n",
              "    }\n",
              "\n",
              "    .dataframe tbody tr th {\n",
              "        vertical-align: top;\n",
              "    }\n",
              "\n",
              "    .dataframe thead th {\n",
              "        text-align: right;\n",
              "    }\n",
              "</style>\n",
              "<table border=\"1\" class=\"dataframe\">\n",
              "  <thead>\n",
              "    <tr style=\"text-align: right;\">\n",
              "      <th></th>\n",
              "      <th>age</th>\n",
              "      <th>sex</th>\n",
              "      <th>cp</th>\n",
              "      <th>trestbps</th>\n",
              "      <th>chol</th>\n",
              "      <th>fbs</th>\n",
              "      <th>restecg</th>\n",
              "      <th>thalach</th>\n",
              "      <th>exang</th>\n",
              "      <th>oldpeak</th>\n",
              "      <th>slope</th>\n",
              "      <th>ca</th>\n",
              "      <th>thal</th>\n",
              "      <th>target</th>\n",
              "      <th>gender</th>\n",
              "    </tr>\n",
              "  </thead>\n",
              "  <tbody>\n",
              "    <tr>\n",
              "      <th>0</th>\n",
              "      <td>63</td>\n",
              "      <td>1</td>\n",
              "      <td>1</td>\n",
              "      <td>145</td>\n",
              "      <td>233</td>\n",
              "      <td>1</td>\n",
              "      <td>2</td>\n",
              "      <td>150</td>\n",
              "      <td>0</td>\n",
              "      <td>2.3</td>\n",
              "      <td>3</td>\n",
              "      <td>0</td>\n",
              "      <td>fixed</td>\n",
              "      <td>0</td>\n",
              "      <td>F</td>\n",
              "    </tr>\n",
              "    <tr>\n",
              "      <th>1</th>\n",
              "      <td>67</td>\n",
              "      <td>1</td>\n",
              "      <td>4</td>\n",
              "      <td>160</td>\n",
              "      <td>286</td>\n",
              "      <td>0</td>\n",
              "      <td>2</td>\n",
              "      <td>108</td>\n",
              "      <td>1</td>\n",
              "      <td>1.5</td>\n",
              "      <td>2</td>\n",
              "      <td>3</td>\n",
              "      <td>normal</td>\n",
              "      <td>1</td>\n",
              "      <td>F</td>\n",
              "    </tr>\n",
              "    <tr>\n",
              "      <th>2</th>\n",
              "      <td>67</td>\n",
              "      <td>1</td>\n",
              "      <td>4</td>\n",
              "      <td>120</td>\n",
              "      <td>229</td>\n",
              "      <td>0</td>\n",
              "      <td>2</td>\n",
              "      <td>129</td>\n",
              "      <td>1</td>\n",
              "      <td>2.6</td>\n",
              "      <td>2</td>\n",
              "      <td>2</td>\n",
              "      <td>reversible</td>\n",
              "      <td>0</td>\n",
              "      <td>F</td>\n",
              "    </tr>\n",
              "    <tr>\n",
              "      <th>3</th>\n",
              "      <td>37</td>\n",
              "      <td>1</td>\n",
              "      <td>3</td>\n",
              "      <td>130</td>\n",
              "      <td>250</td>\n",
              "      <td>0</td>\n",
              "      <td>0</td>\n",
              "      <td>187</td>\n",
              "      <td>0</td>\n",
              "      <td>3.5</td>\n",
              "      <td>3</td>\n",
              "      <td>0</td>\n",
              "      <td>normal</td>\n",
              "      <td>0</td>\n",
              "      <td>F</td>\n",
              "    </tr>\n",
              "    <tr>\n",
              "      <th>4</th>\n",
              "      <td>41</td>\n",
              "      <td>0</td>\n",
              "      <td>2</td>\n",
              "      <td>130</td>\n",
              "      <td>204</td>\n",
              "      <td>0</td>\n",
              "      <td>2</td>\n",
              "      <td>172</td>\n",
              "      <td>0</td>\n",
              "      <td>1.4</td>\n",
              "      <td>1</td>\n",
              "      <td>0</td>\n",
              "      <td>normal</td>\n",
              "      <td>0</td>\n",
              "      <td>M</td>\n",
              "    </tr>\n",
              "  </tbody>\n",
              "</table>\n",
              "</div>"
            ],
            "text/plain": [
              "   age  sex  cp  trestbps  chol  ...  slope  ca        thal  target  gender\n",
              "0   63    1   1       145   233  ...      3   0       fixed       0       F\n",
              "1   67    1   4       160   286  ...      2   3      normal       1       F\n",
              "2   67    1   4       120   229  ...      2   2  reversible       0       F\n",
              "3   37    1   3       130   250  ...      3   0      normal       0       F\n",
              "4   41    0   2       130   204  ...      1   0      normal       0       M\n",
              "\n",
              "[5 rows x 15 columns]"
            ]
          },
          "metadata": {
            "tags": []
          },
          "execution_count": 30
        }
      ]
    },
    {
      "cell_type": "markdown",
      "metadata": {
        "id": "ZBtPVUDxcMwM",
        "colab_type": "text"
      },
      "source": [
        "Create a  df with age between 30-50  for female"
      ]
    },
    {
      "cell_type": "code",
      "metadata": {
        "id": "oeHpwwBQZaT2",
        "colab_type": "code",
        "outputId": "cdaf0947-fb41-49f5-b04a-dd6577a756a9",
        "colab": {
          "base_uri": "https://localhost:8080/",
          "height": 166
        }
      },
      "source": [
        "#DATA FRAME FOR FEMALE HAVING AGE BETWEEN 30-50\n",
        "# Import pandas library \n",
        "import pandas as pd \n",
        "  \n",
        "# initialize list of lists \n",
        "data = [['abc', 40], ['xyz', 32], ['qrs', 49],['pok', 43]] \n",
        "  \n",
        "# Create the pandas DataFrame \n",
        "df = pd.DataFrame(data, columns = ['Name', 'Age']) \n",
        "  \n",
        "# print dataframe. \n",
        "df "
      ],
      "execution_count": 0,
      "outputs": [
        {
          "output_type": "execute_result",
          "data": {
            "text/html": [
              "<div>\n",
              "<style scoped>\n",
              "    .dataframe tbody tr th:only-of-type {\n",
              "        vertical-align: middle;\n",
              "    }\n",
              "\n",
              "    .dataframe tbody tr th {\n",
              "        vertical-align: top;\n",
              "    }\n",
              "\n",
              "    .dataframe thead th {\n",
              "        text-align: right;\n",
              "    }\n",
              "</style>\n",
              "<table border=\"1\" class=\"dataframe\">\n",
              "  <thead>\n",
              "    <tr style=\"text-align: right;\">\n",
              "      <th></th>\n",
              "      <th>Name</th>\n",
              "      <th>Age</th>\n",
              "    </tr>\n",
              "  </thead>\n",
              "  <tbody>\n",
              "    <tr>\n",
              "      <th>0</th>\n",
              "      <td>abc</td>\n",
              "      <td>40</td>\n",
              "    </tr>\n",
              "    <tr>\n",
              "      <th>1</th>\n",
              "      <td>xyz</td>\n",
              "      <td>32</td>\n",
              "    </tr>\n",
              "    <tr>\n",
              "      <th>2</th>\n",
              "      <td>qrs</td>\n",
              "      <td>49</td>\n",
              "    </tr>\n",
              "    <tr>\n",
              "      <th>3</th>\n",
              "      <td>pok</td>\n",
              "      <td>43</td>\n",
              "    </tr>\n",
              "  </tbody>\n",
              "</table>\n",
              "</div>"
            ],
            "text/plain": [
              "  Name  Age\n",
              "0  abc   40\n",
              "1  xyz   32\n",
              "2  qrs   49\n",
              "3  pok   43"
            ]
          },
          "metadata": {
            "tags": []
          },
          "execution_count": 35
        }
      ]
    },
    {
      "cell_type": "markdown",
      "metadata": {
        "id": "HRNYHvc9cE0V",
        "colab_type": "text"
      },
      "source": [
        "Create a df with age between 30-50 for male"
      ]
    },
    {
      "cell_type": "code",
      "metadata": {
        "id": "7JJ8WHDGa9Hj",
        "colab_type": "code",
        "outputId": "1924167d-6777-422c-a8f1-c9f4543d2066",
        "colab": {
          "base_uri": "https://localhost:8080/",
          "height": 166
        }
      },
      "source": [
        "#DATA FRAME FOR MALE HAVING AGE BETWEEN 30-50\n",
        "# Import pandas library \n",
        "import pandas as pd \n",
        "  \n",
        "# initialize list of lists \n",
        "data = [['Micheal', 48], ['John', 37], ['Robert', 39],['Lee', 46]] \n",
        "  \n",
        "# Create the pandas DataFrame \n",
        "df = pd.DataFrame(data, columns = ['Name', 'Age']) \n",
        "  \n",
        "# print dataframe. \n",
        "df "
      ],
      "execution_count": 0,
      "outputs": [
        {
          "output_type": "execute_result",
          "data": {
            "text/html": [
              "<div>\n",
              "<style scoped>\n",
              "    .dataframe tbody tr th:only-of-type {\n",
              "        vertical-align: middle;\n",
              "    }\n",
              "\n",
              "    .dataframe tbody tr th {\n",
              "        vertical-align: top;\n",
              "    }\n",
              "\n",
              "    .dataframe thead th {\n",
              "        text-align: right;\n",
              "    }\n",
              "</style>\n",
              "<table border=\"1\" class=\"dataframe\">\n",
              "  <thead>\n",
              "    <tr style=\"text-align: right;\">\n",
              "      <th></th>\n",
              "      <th>Name</th>\n",
              "      <th>Age</th>\n",
              "    </tr>\n",
              "  </thead>\n",
              "  <tbody>\n",
              "    <tr>\n",
              "      <th>0</th>\n",
              "      <td>Micheal</td>\n",
              "      <td>48</td>\n",
              "    </tr>\n",
              "    <tr>\n",
              "      <th>1</th>\n",
              "      <td>John</td>\n",
              "      <td>37</td>\n",
              "    </tr>\n",
              "    <tr>\n",
              "      <th>2</th>\n",
              "      <td>Robert</td>\n",
              "      <td>39</td>\n",
              "    </tr>\n",
              "    <tr>\n",
              "      <th>3</th>\n",
              "      <td>Lee</td>\n",
              "      <td>46</td>\n",
              "    </tr>\n",
              "  </tbody>\n",
              "</table>\n",
              "</div>"
            ],
            "text/plain": [
              "      Name  Age\n",
              "0  Micheal   48\n",
              "1     John   37\n",
              "2   Robert   39\n",
              "3      Lee   46"
            ]
          },
          "metadata": {
            "tags": []
          },
          "execution_count": 36
        }
      ]
    }
  ]
}